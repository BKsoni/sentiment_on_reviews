{
 "cells": [
  {
   "cell_type": "markdown",
   "id": "6a6c6bf2",
   "metadata": {},
   "source": [
    "# Sentiment Analysis on Amazon Product Reviews on Indian Products"
   ]
  },
  {
   "cell_type": "markdown",
   "id": "ccd194e8",
   "metadata": {},
   "source": [
    "## Read the csv file into a Pandas DataFrame"
   ]
  },
  {
   "cell_type": "code",
   "execution_count": 1,
   "id": "69ac7d69",
   "metadata": {},
   "outputs": [
    {
     "data": {
      "text/html": [
       "<div>\n",
       "<style scoped>\n",
       "    .dataframe tbody tr th:only-of-type {\n",
       "        vertical-align: middle;\n",
       "    }\n",
       "\n",
       "    .dataframe tbody tr th {\n",
       "        vertical-align: top;\n",
       "    }\n",
       "\n",
       "    .dataframe thead th {\n",
       "        text-align: right;\n",
       "    }\n",
       "</style>\n",
       "<table border=\"1\" class=\"dataframe\">\n",
       "  <thead>\n",
       "    <tr style=\"text-align: right;\">\n",
       "      <th></th>\n",
       "      <th>asin</th>\n",
       "      <th>name</th>\n",
       "      <th>date</th>\n",
       "      <th>rating</th>\n",
       "      <th>review</th>\n",
       "    </tr>\n",
       "  </thead>\n",
       "  <tbody>\n",
       "    <tr>\n",
       "      <th>0</th>\n",
       "      <td>B07W7CTLD1</td>\n",
       "      <td>Mamaearth-Onion-Growth-Control-Redensyl</td>\n",
       "      <td>2019-09-06</td>\n",
       "      <td>1</td>\n",
       "      <td>I bought this hair oil after viewing so many g...</td>\n",
       "    </tr>\n",
       "    <tr>\n",
       "      <th>1</th>\n",
       "      <td>B07W7CTLD1</td>\n",
       "      <td>Mamaearth-Onion-Growth-Control-Redensyl</td>\n",
       "      <td>2019-08-14</td>\n",
       "      <td>5</td>\n",
       "      <td>Used This Mama Earth Newly Launched Onion Oil ...</td>\n",
       "    </tr>\n",
       "    <tr>\n",
       "      <th>2</th>\n",
       "      <td>B07W7CTLD1</td>\n",
       "      <td>Mamaearth-Onion-Growth-Control-Redensyl</td>\n",
       "      <td>2019-10-19</td>\n",
       "      <td>1</td>\n",
       "      <td>So bad product...My hair falling increase too ...</td>\n",
       "    </tr>\n",
       "    <tr>\n",
       "      <th>3</th>\n",
       "      <td>B07W7CTLD1</td>\n",
       "      <td>Mamaearth-Onion-Growth-Control-Redensyl</td>\n",
       "      <td>2019-09-16</td>\n",
       "      <td>1</td>\n",
       "      <td>Product just smells similar to navarathna hair...</td>\n",
       "    </tr>\n",
       "    <tr>\n",
       "      <th>4</th>\n",
       "      <td>B07W7CTLD1</td>\n",
       "      <td>Mamaearth-Onion-Growth-Control-Redensyl</td>\n",
       "      <td>2019-08-18</td>\n",
       "      <td>5</td>\n",
       "      <td>I have been trying different onion oil for my ...</td>\n",
       "    </tr>\n",
       "  </tbody>\n",
       "</table>\n",
       "</div>"
      ],
      "text/plain": [
       "         asin                                     name        date  rating  \\\n",
       "0  B07W7CTLD1  Mamaearth-Onion-Growth-Control-Redensyl  2019-09-06       1   \n",
       "1  B07W7CTLD1  Mamaearth-Onion-Growth-Control-Redensyl  2019-08-14       5   \n",
       "2  B07W7CTLD1  Mamaearth-Onion-Growth-Control-Redensyl  2019-10-19       1   \n",
       "3  B07W7CTLD1  Mamaearth-Onion-Growth-Control-Redensyl  2019-09-16       1   \n",
       "4  B07W7CTLD1  Mamaearth-Onion-Growth-Control-Redensyl  2019-08-18       5   \n",
       "\n",
       "                                              review  \n",
       "0  I bought this hair oil after viewing so many g...  \n",
       "1  Used This Mama Earth Newly Launched Onion Oil ...  \n",
       "2  So bad product...My hair falling increase too ...  \n",
       "3  Product just smells similar to navarathna hair...  \n",
       "4  I have been trying different onion oil for my ...  "
      ]
     },
     "execution_count": 1,
     "metadata": {},
     "output_type": "execute_result"
    }
   ],
   "source": [
    "import pandas as pd\n",
    "\n",
    "file_path = 'amazon_reviews.csv'\n",
    "\n",
    "df = pd.read_csv(file_path)\n",
    "\n",
    "df.head()"
   ]
  },
  {
   "cell_type": "markdown",
   "id": "58960030",
   "metadata": {},
   "source": [
    "## EDA on dataset"
   ]
  },
  {
   "cell_type": "code",
   "execution_count": 2,
   "id": "67d0a860",
   "metadata": {},
   "outputs": [
    {
     "data": {
      "text/plain": [
       "asin      object\n",
       "name      object\n",
       "date      object\n",
       "rating     int64\n",
       "review    object\n",
       "dtype: object"
      ]
     },
     "execution_count": 2,
     "metadata": {},
     "output_type": "execute_result"
    }
   ],
   "source": [
    "df.dtypes"
   ]
  },
  {
   "cell_type": "code",
   "execution_count": 3,
   "id": "9c31d326",
   "metadata": {},
   "outputs": [
    {
     "data": {
      "text/plain": [
       "asin      0\n",
       "name      0\n",
       "date      0\n",
       "rating    0\n",
       "review    4\n",
       "dtype: int64"
      ]
     },
     "execution_count": 3,
     "metadata": {},
     "output_type": "execute_result"
    }
   ],
   "source": [
    "df.isnull().sum()"
   ]
  },
  {
   "cell_type": "code",
   "execution_count": 4,
   "id": "77c961f9",
   "metadata": {},
   "outputs": [],
   "source": [
    "df.dropna(subset=['review'], inplace=True)"
   ]
  },
  {
   "cell_type": "code",
   "execution_count": 5,
   "id": "ade98232",
   "metadata": {
    "scrolled": true
   },
   "outputs": [
    {
     "data": {
      "text/plain": [
       "asin      0\n",
       "name      0\n",
       "date      0\n",
       "rating    0\n",
       "review    0\n",
       "dtype: int64"
      ]
     },
     "execution_count": 5,
     "metadata": {},
     "output_type": "execute_result"
    }
   ],
   "source": [
    "df.isnull().sum()"
   ]
  },
  {
   "cell_type": "code",
   "execution_count": 6,
   "id": "d47d6f18",
   "metadata": {},
   "outputs": [],
   "source": [
    "df['date'] = pd.to_datetime(df['date'])"
   ]
  },
  {
   "cell_type": "code",
   "execution_count": 7,
   "id": "2a845c71",
   "metadata": {
    "scrolled": true
   },
   "outputs": [
    {
     "data": {
      "text/plain": [
       "5    1444\n",
       "1     546\n",
       "4     460\n",
       "3     198\n",
       "2     130\n",
       "Name: rating, dtype: int64"
      ]
     },
     "execution_count": 7,
     "metadata": {},
     "output_type": "execute_result"
    }
   ],
   "source": [
    "df['rating'].value_counts()"
   ]
  },
  {
   "cell_type": "markdown",
   "id": "81788166",
   "metadata": {},
   "source": [
    "## Plotting the distribution of ratings using Seaborn"
   ]
  },
  {
   "cell_type": "code",
   "execution_count": 8,
   "id": "6e5f6763",
   "metadata": {},
   "outputs": [
    {
     "data": {
      "image/png": "[encoded data removed]",
      "text/plain": [
       "<Figure size 576x432 with 1 Axes>"
      ]
     },
     "metadata": {
      "needs_background": "light"
     },
     "output_type": "display_data"
    }
   ],
   "source": [
    "import seaborn as sns\n",
    "import matplotlib.pyplot as plt\n",
    "plt.figure(figsize=(8, 6))\n",
    "sns.countplot(data=df, x='rating', palette='pastel')\n",
    "plt.title('Distribution of Ratings')\n",
    "plt.xlabel('Rating')\n",
    "plt.ylabel('Count')\n",
    "plt.show()"
   ]
  },
  {
   "cell_type": "markdown",
   "id": "edb2b7c0",
   "metadata": {},
   "source": [
    "## Counting Unique Products"
   ]
  },
  {
   "cell_type": "code",
   "execution_count": 9,
   "id": "1c5397e5",
   "metadata": {},
   "outputs": [
    {
     "data": {
      "text/plain": [
       "Tata-Tea-Gold-500g                              58\n",
       "Society-Tea-Masala-Jar-250g                     40\n",
       "Fastrack-Casual-Analog-Blue-Watch-NK3124SL02    40\n",
       "Mamaearth-Percent-Natural-Berry-Toothpaste      40\n",
       "Cinthol-Lime-Soap-100-Pack                      40\n",
       "                                                ..\n",
       "Patanjali-UHT-Milk-1000-ml                      10\n",
       "Indiana-Frutti-Cherries-Frooti-Multicolor        6\n",
       "Amul-Cow-Ghee-500ml                              4\n",
       "Tata-Tea-Premium-1-5kg                           2\n",
       "Patanjali-Ayurved-Ltd-CORO-NIL-Tablet            2\n",
       "Name: name, Length: 122, dtype: int64"
      ]
     },
     "execution_count": 9,
     "metadata": {},
     "output_type": "execute_result"
    }
   ],
   "source": [
    "df['name'].value_counts()"
   ]
  },
  {
   "cell_type": "markdown",
   "id": "f232d35d",
   "metadata": {},
   "source": [
    "## Import Necessary Libraries\n",
    "#### The VADER model is used for sentiment analysis of text, providing a compound score"
   ]
  },
  {
   "cell_type": "code",
   "execution_count": 10,
   "id": "4dd8f466-86dd-4c29-8fd5-d42a3cb134c5",
   "metadata": {},
   "outputs": [],
   "source": [
    "#nltk.download('vader_lexicon')\n",
    "import nltk\n",
    "from nltk.sentiment.vader import SentimentIntensityAnalyzer\n",
    "\n",
    "vader = SentimentIntensityAnalyzer()"
   ]
  },
  {
   "cell_type": "code",
   "execution_count": 11,
   "id": "4b38fd9f",
   "metadata": {},
   "outputs": [
    {
     "data": {
      "text/html": [
       "<div>\n",
       "<style scoped>\n",
       "    .dataframe tbody tr th:only-of-type {\n",
       "        vertical-align: middle;\n",
       "    }\n",
       "\n",
       "    .dataframe tbody tr th {\n",
       "        vertical-align: top;\n",
       "    }\n",
       "\n",
       "    .dataframe thead th {\n",
       "        text-align: right;\n",
       "    }\n",
       "</style>\n",
       "<table border=\"1\" class=\"dataframe\">\n",
       "  <thead>\n",
       "    <tr style=\"text-align: right;\">\n",
       "      <th></th>\n",
       "      <th>asin</th>\n",
       "      <th>name</th>\n",
       "      <th>date</th>\n",
       "      <th>rating</th>\n",
       "      <th>review</th>\n",
       "    </tr>\n",
       "  </thead>\n",
       "  <tbody>\n",
       "    <tr>\n",
       "      <th>0</th>\n",
       "      <td>B07W7CTLD1</td>\n",
       "      <td>Mamaearth-Onion-Growth-Control-Redensyl</td>\n",
       "      <td>2019-09-06</td>\n",
       "      <td>1</td>\n",
       "      <td>I bought this hair oil after viewing so many g...</td>\n",
       "    </tr>\n",
       "    <tr>\n",
       "      <th>1</th>\n",
       "      <td>B07W7CTLD1</td>\n",
       "      <td>Mamaearth-Onion-Growth-Control-Redensyl</td>\n",
       "      <td>2019-08-14</td>\n",
       "      <td>5</td>\n",
       "      <td>Used This Mama Earth Newly Launched Onion Oil ...</td>\n",
       "    </tr>\n",
       "    <tr>\n",
       "      <th>2</th>\n",
       "      <td>B07W7CTLD1</td>\n",
       "      <td>Mamaearth-Onion-Growth-Control-Redensyl</td>\n",
       "      <td>2019-10-19</td>\n",
       "      <td>1</td>\n",
       "      <td>So bad product...My hair falling increase too ...</td>\n",
       "    </tr>\n",
       "    <tr>\n",
       "      <th>3</th>\n",
       "      <td>B07W7CTLD1</td>\n",
       "      <td>Mamaearth-Onion-Growth-Control-Redensyl</td>\n",
       "      <td>2019-09-16</td>\n",
       "      <td>1</td>\n",
       "      <td>Product just smells similar to navarathna hair...</td>\n",
       "    </tr>\n",
       "    <tr>\n",
       "      <th>4</th>\n",
       "      <td>B07W7CTLD1</td>\n",
       "      <td>Mamaearth-Onion-Growth-Control-Redensyl</td>\n",
       "      <td>2019-08-18</td>\n",
       "      <td>5</td>\n",
       "      <td>I have been trying different onion oil for my ...</td>\n",
       "    </tr>\n",
       "    <tr>\n",
       "      <th>...</th>\n",
       "      <td>...</td>\n",
       "      <td>...</td>\n",
       "      <td>...</td>\n",
       "      <td>...</td>\n",
       "      <td>...</td>\n",
       "    </tr>\n",
       "    <tr>\n",
       "      <th>2777</th>\n",
       "      <td>B07MVHJ6CH</td>\n",
       "      <td>Mysore-Sandal-Soaps-Pack-Bars</td>\n",
       "      <td>2020-03-01</td>\n",
       "      <td>5</td>\n",
       "      <td>Long lasting freshness throughout the day.</td>\n",
       "    </tr>\n",
       "    <tr>\n",
       "      <th>2778</th>\n",
       "      <td>B07MVHJ6CH</td>\n",
       "      <td>Mysore-Sandal-Soaps-Pack-Bars</td>\n",
       "      <td>2019-10-24</td>\n",
       "      <td>5</td>\n",
       "      <td>My preferred soap</td>\n",
       "    </tr>\n",
       "    <tr>\n",
       "      <th>2779</th>\n",
       "      <td>B07MVHJ6CH</td>\n",
       "      <td>Mysore-Sandal-Soaps-Pack-Bars</td>\n",
       "      <td>2020-10-03</td>\n",
       "      <td>2</td>\n",
       "      <td>ठीक नहीं लगा</td>\n",
       "    </tr>\n",
       "    <tr>\n",
       "      <th>2780</th>\n",
       "      <td>B07MVHJ6CH</td>\n",
       "      <td>Mysore-Sandal-Soaps-Pack-Bars</td>\n",
       "      <td>2019-06-21</td>\n",
       "      <td>4</td>\n",
       "      <td>Super Product</td>\n",
       "    </tr>\n",
       "    <tr>\n",
       "      <th>2781</th>\n",
       "      <td>B07MVHJ6CH</td>\n",
       "      <td>Mysore-Sandal-Soaps-Pack-Bars</td>\n",
       "      <td>2020-07-03</td>\n",
       "      <td>5</td>\n",
       "      <td>Best soothing, cooling fragrance for hot summe...</td>\n",
       "    </tr>\n",
       "  </tbody>\n",
       "</table>\n",
       "<p>2778 rows × 5 columns</p>\n",
       "</div>"
      ],
      "text/plain": [
       "            asin                                     name       date  rating  \\\n",
       "0     B07W7CTLD1  Mamaearth-Onion-Growth-Control-Redensyl 2019-09-06       1   \n",
       "1     B07W7CTLD1  Mamaearth-Onion-Growth-Control-Redensyl 2019-08-14       5   \n",
       "2     B07W7CTLD1  Mamaearth-Onion-Growth-Control-Redensyl 2019-10-19       1   \n",
       "3     B07W7CTLD1  Mamaearth-Onion-Growth-Control-Redensyl 2019-09-16       1   \n",
       "4     B07W7CTLD1  Mamaearth-Onion-Growth-Control-Redensyl 2019-08-18       5   \n",
       "...          ...                                      ...        ...     ...   \n",
       "2777  B07MVHJ6CH            Mysore-Sandal-Soaps-Pack-Bars 2020-03-01       5   \n",
       "2778  B07MVHJ6CH            Mysore-Sandal-Soaps-Pack-Bars 2019-10-24       5   \n",
       "2779  B07MVHJ6CH            Mysore-Sandal-Soaps-Pack-Bars 2020-10-03       2   \n",
       "2780  B07MVHJ6CH            Mysore-Sandal-Soaps-Pack-Bars 2019-06-21       4   \n",
       "2781  B07MVHJ6CH            Mysore-Sandal-Soaps-Pack-Bars 2020-07-03       5   \n",
       "\n",
       "                                                 review  \n",
       "0     I bought this hair oil after viewing so many g...  \n",
       "1     Used This Mama Earth Newly Launched Onion Oil ...  \n",
       "2     So bad product...My hair falling increase too ...  \n",
       "3     Product just smells similar to navarathna hair...  \n",
       "4     I have been trying different onion oil for my ...  \n",
       "...                                                 ...  \n",
       "2777         Long lasting freshness throughout the day.  \n",
       "2778                                  My preferred soap  \n",
       "2779                                       ठीक नहीं लगा  \n",
       "2780                                      Super Product  \n",
       "2781  Best soothing, cooling fragrance for hot summe...  \n",
       "\n",
       "[2778 rows x 5 columns]"
      ]
     },
     "execution_count": 11,
     "metadata": {},
     "output_type": "execute_result"
    }
   ],
   "source": [
    "df"
   ]
  },
  {
   "cell_type": "markdown",
   "id": "af3e2108",
   "metadata": {},
   "source": [
    "## Adding vader scores into dataframe\n",
    "#### Compound scores can determine the overall sentiment (positive, neutral, negative)\n",
    "#### It analyzes text and assigns sentiment scores for positive, negative, neutral, and compound (overall) sentiment"
   ]
  },
  {
   "cell_type": "code",
   "execution_count": 12,
   "id": "2c4e7631-77ca-4c5b-9522-1948522954fa",
   "metadata": {
    "scrolled": true
   },
   "outputs": [],
   "source": [
    "import pandas as pd\n",
    "# TODO: Iterate through and get the polarity scores\n",
    "scores = [vader.polarity_scores(text) for text in df['review']]\n",
    "\n",
    "# Convert the list of dicts into a DataFrame\n",
    "scores_df = pd.DataFrame(scores)\n",
    "\n",
    "# Join the DataFrames\n",
    "df_score = df.join(scores_df)\n",
    "df_score.dropna(subset=['compound'], inplace=True)"
   ]
  },
  {
   "cell_type": "code",
   "execution_count": 13,
   "id": "30529822-17f2-47de-81a3-753435cc0b66",
   "metadata": {
    "scrolled": true
   },
   "outputs": [
    {
     "data": {
      "text/html": [
       "<div>\n",
       "<style scoped>\n",
       "    .dataframe tbody tr th:only-of-type {\n",
       "        vertical-align: middle;\n",
       "    }\n",
       "\n",
       "    .dataframe tbody tr th {\n",
       "        vertical-align: top;\n",
       "    }\n",
       "\n",
       "    .dataframe thead th {\n",
       "        text-align: right;\n",
       "    }\n",
       "</style>\n",
       "<table border=\"1\" class=\"dataframe\">\n",
       "  <thead>\n",
       "    <tr style=\"text-align: right;\">\n",
       "      <th></th>\n",
       "      <th>asin</th>\n",
       "      <th>name</th>\n",
       "      <th>date</th>\n",
       "      <th>rating</th>\n",
       "      <th>review</th>\n",
       "      <th>neg</th>\n",
       "      <th>neu</th>\n",
       "      <th>pos</th>\n",
       "      <th>compound</th>\n",
       "    </tr>\n",
       "  </thead>\n",
       "  <tbody>\n",
       "    <tr>\n",
       "      <th>0</th>\n",
       "      <td>B07W7CTLD1</td>\n",
       "      <td>Mamaearth-Onion-Growth-Control-Redensyl</td>\n",
       "      <td>2019-09-06</td>\n",
       "      <td>1</td>\n",
       "      <td>I bought this hair oil after viewing so many g...</td>\n",
       "      <td>0.074</td>\n",
       "      <td>0.741</td>\n",
       "      <td>0.186</td>\n",
       "      <td>0.9102</td>\n",
       "    </tr>\n",
       "    <tr>\n",
       "      <th>1</th>\n",
       "      <td>B07W7CTLD1</td>\n",
       "      <td>Mamaearth-Onion-Growth-Control-Redensyl</td>\n",
       "      <td>2019-08-14</td>\n",
       "      <td>5</td>\n",
       "      <td>Used This Mama Earth Newly Launched Onion Oil ...</td>\n",
       "      <td>0.074</td>\n",
       "      <td>0.734</td>\n",
       "      <td>0.192</td>\n",
       "      <td>0.8856</td>\n",
       "    </tr>\n",
       "    <tr>\n",
       "      <th>2</th>\n",
       "      <td>B07W7CTLD1</td>\n",
       "      <td>Mamaearth-Onion-Growth-Control-Redensyl</td>\n",
       "      <td>2019-10-19</td>\n",
       "      <td>1</td>\n",
       "      <td>So bad product...My hair falling increase too ...</td>\n",
       "      <td>0.240</td>\n",
       "      <td>0.617</td>\n",
       "      <td>0.144</td>\n",
       "      <td>-0.4224</td>\n",
       "    </tr>\n",
       "    <tr>\n",
       "      <th>3</th>\n",
       "      <td>B07W7CTLD1</td>\n",
       "      <td>Mamaearth-Onion-Growth-Control-Redensyl</td>\n",
       "      <td>2019-09-16</td>\n",
       "      <td>1</td>\n",
       "      <td>Product just smells similar to navarathna hair...</td>\n",
       "      <td>0.227</td>\n",
       "      <td>0.696</td>\n",
       "      <td>0.078</td>\n",
       "      <td>-0.9577</td>\n",
       "    </tr>\n",
       "    <tr>\n",
       "      <th>4</th>\n",
       "      <td>B07W7CTLD1</td>\n",
       "      <td>Mamaearth-Onion-Growth-Control-Redensyl</td>\n",
       "      <td>2019-08-18</td>\n",
       "      <td>5</td>\n",
       "      <td>I have been trying different onion oil for my ...</td>\n",
       "      <td>0.035</td>\n",
       "      <td>0.795</td>\n",
       "      <td>0.170</td>\n",
       "      <td>0.8597</td>\n",
       "    </tr>\n",
       "    <tr>\n",
       "      <th>...</th>\n",
       "      <td>...</td>\n",
       "      <td>...</td>\n",
       "      <td>...</td>\n",
       "      <td>...</td>\n",
       "      <td>...</td>\n",
       "      <td>...</td>\n",
       "      <td>...</td>\n",
       "      <td>...</td>\n",
       "      <td>...</td>\n",
       "    </tr>\n",
       "    <tr>\n",
       "      <th>2773</th>\n",
       "      <td>B07MVHJ6CH</td>\n",
       "      <td>Mysore-Sandal-Soaps-Pack-Bars</td>\n",
       "      <td>2020-07-03</td>\n",
       "      <td>5</td>\n",
       "      <td>Best soothing, cooling fragrance for hot summe...</td>\n",
       "      <td>0.000</td>\n",
       "      <td>1.000</td>\n",
       "      <td>0.000</td>\n",
       "      <td>0.0000</td>\n",
       "    </tr>\n",
       "    <tr>\n",
       "      <th>2774</th>\n",
       "      <td>B07MVHJ6CH</td>\n",
       "      <td>Mysore-Sandal-Soaps-Pack-Bars</td>\n",
       "      <td>2020-08-21</td>\n",
       "      <td>1</td>\n",
       "      <td>No return and replaceAdd more tex</td>\n",
       "      <td>0.000</td>\n",
       "      <td>1.000</td>\n",
       "      <td>0.000</td>\n",
       "      <td>0.0000</td>\n",
       "    </tr>\n",
       "    <tr>\n",
       "      <th>2775</th>\n",
       "      <td>B07MVHJ6CH</td>\n",
       "      <td>Mysore-Sandal-Soaps-Pack-Bars</td>\n",
       "      <td>2019-08-23</td>\n",
       "      <td>5</td>\n",
       "      <td>Been using it for 45 years . The best soap ever .</td>\n",
       "      <td>0.000</td>\n",
       "      <td>1.000</td>\n",
       "      <td>0.000</td>\n",
       "      <td>0.0000</td>\n",
       "    </tr>\n",
       "    <tr>\n",
       "      <th>2776</th>\n",
       "      <td>B07MVHJ6CH</td>\n",
       "      <td>Mysore-Sandal-Soaps-Pack-Bars</td>\n",
       "      <td>2019-05-09</td>\n",
       "      <td>5</td>\n",
       "      <td>Fantastic</td>\n",
       "      <td>0.000</td>\n",
       "      <td>0.204</td>\n",
       "      <td>0.796</td>\n",
       "      <td>0.5994</td>\n",
       "    </tr>\n",
       "    <tr>\n",
       "      <th>2777</th>\n",
       "      <td>B07MVHJ6CH</td>\n",
       "      <td>Mysore-Sandal-Soaps-Pack-Bars</td>\n",
       "      <td>2020-03-01</td>\n",
       "      <td>5</td>\n",
       "      <td>Long lasting freshness throughout the day.</td>\n",
       "      <td>0.000</td>\n",
       "      <td>0.680</td>\n",
       "      <td>0.320</td>\n",
       "      <td>0.8720</td>\n",
       "    </tr>\n",
       "  </tbody>\n",
       "</table>\n",
       "<p>2774 rows × 9 columns</p>\n",
       "</div>"
      ],
      "text/plain": [
       "            asin                                     name       date  rating  \\\n",
       "0     B07W7CTLD1  Mamaearth-Onion-Growth-Control-Redensyl 2019-09-06       1   \n",
       "1     B07W7CTLD1  Mamaearth-Onion-Growth-Control-Redensyl 2019-08-14       5   \n",
       "2     B07W7CTLD1  Mamaearth-Onion-Growth-Control-Redensyl 2019-10-19       1   \n",
       "3     B07W7CTLD1  Mamaearth-Onion-Growth-Control-Redensyl 2019-09-16       1   \n",
       "4     B07W7CTLD1  Mamaearth-Onion-Growth-Control-Redensyl 2019-08-18       5   \n",
       "...          ...                                      ...        ...     ...   \n",
       "2773  B07MVHJ6CH            Mysore-Sandal-Soaps-Pack-Bars 2020-07-03       5   \n",
       "2774  B07MVHJ6CH            Mysore-Sandal-Soaps-Pack-Bars 2020-08-21       1   \n",
       "2775  B07MVHJ6CH            Mysore-Sandal-Soaps-Pack-Bars 2019-08-23       5   \n",
       "2776  B07MVHJ6CH            Mysore-Sandal-Soaps-Pack-Bars 2019-05-09       5   \n",
       "2777  B07MVHJ6CH            Mysore-Sandal-Soaps-Pack-Bars 2020-03-01       5   \n",
       "\n",
       "                                                 review    neg    neu    pos  \\\n",
       "0     I bought this hair oil after viewing so many g...  0.074  0.741  0.186   \n",
       "1     Used This Mama Earth Newly Launched Onion Oil ...  0.074  0.734  0.192   \n",
       "2     So bad product...My hair falling increase too ...  0.240  0.617  0.144   \n",
       "3     Product just smells similar to navarathna hair...  0.227  0.696  0.078   \n",
       "4     I have been trying different onion oil for my ...  0.035  0.795  0.170   \n",
       "...                                                 ...    ...    ...    ...   \n",
       "2773  Best soothing, cooling fragrance for hot summe...  0.000  1.000  0.000   \n",
       "2774                  No return and replaceAdd more tex  0.000  1.000  0.000   \n",
       "2775  Been using it for 45 years . The best soap ever .  0.000  1.000  0.000   \n",
       "2776                                          Fantastic  0.000  0.204  0.796   \n",
       "2777         Long lasting freshness throughout the day.  0.000  0.680  0.320   \n",
       "\n",
       "      compound  \n",
       "0       0.9102  \n",
       "1       0.8856  \n",
       "2      -0.4224  \n",
       "3      -0.9577  \n",
       "4       0.8597  \n",
       "...        ...  \n",
       "2773    0.0000  \n",
       "2774    0.0000  \n",
       "2775    0.0000  \n",
       "2776    0.5994  \n",
       "2777    0.8720  \n",
       "\n",
       "[2774 rows x 9 columns]"
      ]
     },
     "execution_count": 13,
     "metadata": {},
     "output_type": "execute_result"
    }
   ],
   "source": [
    "df_score"
   ]
  },
  {
   "cell_type": "markdown",
   "id": "63e3b20f",
   "metadata": {},
   "source": [
    "## Finding Relationship Between Positive Score vs Positive Rating and Same for Negative"
   ]
  },
  {
   "cell_type": "code",
   "execution_count": 24,
   "id": "15aa03f4",
   "metadata": {},
   "outputs": [
    {
     "data": {
      "image/png": "[encoded data removed]",
      "text/plain": [
       "<Figure size 576x432 with 1 Axes>"
      ]
     },
     "metadata": {
      "needs_background": "light"
     },
     "output_type": "display_data"
    },
    {
     "data": {
      "image/png": "[encoded data removed]",
      "text/plain": [
       "<Figure size 576x432 with 1 Axes>"
      ]
     },
     "metadata": {
      "needs_background": "light"
     },
     "output_type": "display_data"
    }
   ],
   "source": [
    "import matplotlib.pyplot as plt\n",
    "import seaborn as sns\n",
    "\n",
    "# Filter the dataset for positive ratings (rating=5) and negative ratings (rating=1)\n",
    "positive_reviews = df_score[df_score['rating'] == 5]\n",
    "negative_reviews = df_score[df_score['rating'] == 1]\n",
    "\n",
    "# Relationship between positive ratings and 'pos' sentiment score\n",
    "plt.figure(figsize=(8, 6))\n",
    "sns.scatterplot(x='pos', y='rating', data=positive_reviews)\n",
    "plt.title('Relationship between Positive Ratings and Positive Sentiment Score')\n",
    "plt.xlabel('Positive Sentiment Score')\n",
    "plt.ylabel('Rating')\n",
    "plt.show()\n",
    "\n",
    "# Relationship between negative ratings and 'neg' sentiment score\n",
    "plt.figure(figsize=(8, 6))\n",
    "sns.scatterplot(x='neg', y='rating', data=negative_reviews)\n",
    "plt.title('Relationship between Negative Ratings and Negative Sentiment Score')\n",
    "plt.xlabel('Negative Sentiment Score')\n",
    "plt.ylabel('Rating')\n",
    "plt.show()\n"
   ]
  },
  {
   "cell_type": "markdown",
   "id": "153e45ab",
   "metadata": {},
   "source": [
    "## Grouping Common products using their common ASIN for finding product specific sentiment"
   ]
  },
  {
   "cell_type": "code",
   "execution_count": 17,
   "id": "c474582b",
   "metadata": {},
   "outputs": [
    {
     "data": {
      "text/html": [
       "<div>\n",
       "<style scoped>\n",
       "    .dataframe tbody tr th:only-of-type {\n",
       "        vertical-align: middle;\n",
       "    }\n",
       "\n",
       "    .dataframe tbody tr th {\n",
       "        vertical-align: top;\n",
       "    }\n",
       "\n",
       "    .dataframe thead th {\n",
       "        text-align: right;\n",
       "    }\n",
       "</style>\n",
       "<table border=\"1\" class=\"dataframe\">\n",
       "  <thead>\n",
       "    <tr style=\"text-align: right;\">\n",
       "      <th></th>\n",
       "      <th>asin</th>\n",
       "      <th>compound</th>\n",
       "    </tr>\n",
       "  </thead>\n",
       "  <tbody>\n",
       "    <tr>\n",
       "      <th>0</th>\n",
       "      <td>B002ZVK88G</td>\n",
       "      <td>0.13906</td>\n",
       "    </tr>\n",
       "    <tr>\n",
       "      <th>1</th>\n",
       "      <td>B003OPTXW4</td>\n",
       "      <td>0.40866</td>\n",
       "    </tr>\n",
       "    <tr>\n",
       "      <th>2</th>\n",
       "      <td>B008YD5500</td>\n",
       "      <td>0.37270</td>\n",
       "    </tr>\n",
       "    <tr>\n",
       "      <th>3</th>\n",
       "      <td>B008YD57OO</td>\n",
       "      <td>0.05098</td>\n",
       "    </tr>\n",
       "    <tr>\n",
       "      <th>4</th>\n",
       "      <td>B00AI87X0O</td>\n",
       "      <td>0.36830</td>\n",
       "    </tr>\n",
       "    <tr>\n",
       "      <th>...</th>\n",
       "      <td>...</td>\n",
       "      <td>...</td>\n",
       "    </tr>\n",
       "    <tr>\n",
       "      <th>140</th>\n",
       "      <td>B08CN7SJBX</td>\n",
       "      <td>0.24959</td>\n",
       "    </tr>\n",
       "    <tr>\n",
       "      <th>141</th>\n",
       "      <td>B08DLL7C2D</td>\n",
       "      <td>-0.04901</td>\n",
       "    </tr>\n",
       "    <tr>\n",
       "      <th>142</th>\n",
       "      <td>B08GLVHLPW</td>\n",
       "      <td>0.28843</td>\n",
       "    </tr>\n",
       "    <tr>\n",
       "      <th>143</th>\n",
       "      <td>B08GWV3SM6</td>\n",
       "      <td>0.35994</td>\n",
       "    </tr>\n",
       "    <tr>\n",
       "      <th>144</th>\n",
       "      <td>B08HKJWHWS</td>\n",
       "      <td>-0.75190</td>\n",
       "    </tr>\n",
       "  </tbody>\n",
       "</table>\n",
       "<p>145 rows × 2 columns</p>\n",
       "</div>"
      ],
      "text/plain": [
       "           asin  compound\n",
       "0    B002ZVK88G   0.13906\n",
       "1    B003OPTXW4   0.40866\n",
       "2    B008YD5500   0.37270\n",
       "3    B008YD57OO   0.05098\n",
       "4    B00AI87X0O   0.36830\n",
       "..          ...       ...\n",
       "140  B08CN7SJBX   0.24959\n",
       "141  B08DLL7C2D  -0.04901\n",
       "142  B08GLVHLPW   0.28843\n",
       "143  B08GWV3SM6   0.35994\n",
       "144  B08HKJWHWS  -0.75190\n",
       "\n",
       "[145 rows x 2 columns]"
      ]
     },
     "execution_count": 17,
     "metadata": {},
     "output_type": "execute_result"
    }
   ],
   "source": [
    "compound_scores = df_score.groupby('asin')['compound'].mean().reset_index()\n",
    "compound_scores"
   ]
  },
  {
   "cell_type": "code",
   "execution_count": 18,
   "id": "325bc5ca",
   "metadata": {},
   "outputs": [
    {
     "data": {
      "image/png": "[encoded data removed]",
      "text/plain": [
       "<Figure size 576x432 with 1 Axes>"
      ]
     },
     "metadata": {
      "needs_background": "light"
     },
     "output_type": "display_data"
    }
   ],
   "source": [
    "plt.figure(figsize=(8, 6))\n",
    "sns.histplot(compound_scores['compound'], bins=20, kde=True)\n",
    "plt.title('Distribution of Compound Scores')\n",
    "plt.xlabel('Compound Score')\n",
    "plt.ylabel('Frequency')\n",
    "plt.show()"
   ]
  },
  {
   "cell_type": "markdown",
   "id": "041de81f",
   "metadata": {},
   "source": [
    "## Top and Bottom Products by Sentiment"
   ]
  },
  {
   "cell_type": "code",
   "execution_count": 31,
   "id": "9fc190f3",
   "metadata": {},
   "outputs": [
    {
     "data": {
      "image/png": "[encoded data removed]",
      "text/plain": [
       "<Figure size 720x432 with 1 Axes>"
      ]
     },
     "metadata": {
      "needs_background": "light"
     },
     "output_type": "display_data"
    }
   ],
   "source": [
    "import matplotlib.pyplot as plt\n",
    "\n",
    "# Top and Bottom Products by Sentiment\n",
    "top_products = compound_scores.nlargest(5, 'compound')\n",
    "bottom_products = compound_scores.nsmallest(5, 'compound')\n",
    "\n",
    "# Concatenating top and bottom products for plotting\n",
    "top_bottom_products = pd.concat([top_products, bottom_products])\n",
    "\n",
    "# Bar plot for top and bottom products based on compound scores\n",
    "plt.figure(figsize=(10, 6))\n",
    "colors = ['green' if x > 0 else 'red' for x in top_bottom_products['compound']]\n",
    "plt.barh(top_bottom_products['asin'], top_bottom_products['compound'], color=colors)\n",
    "plt.xlabel('Compound Score')\n",
    "plt.title('Top and Bottom Products by Compound Score')\n",
    "plt.show()\n"
   ]
  },
  {
   "cell_type": "markdown",
   "id": "dd5d8011",
   "metadata": {},
   "source": [
    "## Write-Up"
   ]
  },
  {
   "cell_type": "markdown",
   "id": "b9b0ab97",
   "metadata": {},
   "source": [
    "This project focused on analyzing sentiment within Amazon product reviews using the VADER sentiment analysis tool in Python. Initially, the data from the 'amazon_reviews.csv' file was loaded into a Pandas DataFrame for exploratory data analysis (EDA). The dataset was cleaned by handling missing values and converting the 'date' column to datetime format.\n",
    "\n",
    "The distribution of ratings was visualized using Seaborn, providing an overview of how ratings were distributed among the reviews. Additionally, the count of unique products was explored to understand the frequency of reviews per product.\n",
    "\n",
    "The VADER sentiment analysis tool was utilized to derive sentiment scores (positive, negative, neutral, and compound) for each review. The relationship between positive and negative sentiment scores and their respective ratings (5 and 1) was visualized to observe any correlation between sentiment and ratings.\n",
    "\n",
    "Furthermore, the analysis delved into grouping products by their ASIN and determining the average compound sentiment score for each product. This facilitated the identification of top and bottom products based on their sentiment scores, visualized using a bar plot showcasing the products with the highest and lowest average sentiment scores.\n",
    "\n",
    "Overall, this project showcased the application of sentiment analysis techniques to extract insights from Amazon product reviews, enabling a better understanding of customer sentiment toward various products. The process involved data cleaning, exploratory analysis, sentiment scoring, and visualization, offering valuable insights into product-specific sentiments."
   ]
  },
  {
   "cell_type": "code",
   "execution_count": null,
   "id": "479f6135",
   "metadata": {},
   "outputs": [],
   "source": []
  }
 ],
 "metadata": {
  "kernelspec": {
   "display_name": "Python 3 (ipykernel)",
   "language": "python",
   "name": "python3"
  },
  "language_info": {
   "codemirror_mode": {
    "name": "ipython",
    "version": 3
   },
   "file_extension": ".py",
   "mimetype": "text/x-python",
   "name": "python",
   "nbconvert_exporter": "python",
   "pygments_lexer": "ipython3",
   "version": "3.9.7"
  }
 },
 "nbformat": 4,
 "nbformat_minor": 5
}
